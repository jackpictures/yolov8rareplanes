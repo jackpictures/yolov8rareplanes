{
 "cells": [
  {
   "cell_type": "code",
   "execution_count": 10,
   "metadata": {},
   "outputs": [],
   "source": [
    "from shapely.geometry import box\n",
    "import argparse\n",
    "import geopandas as gpd\n",
    "import pandas as pd\n",
    "import os\n",
    "import glob\n",
    "from tqdm import tqdm\n",
    "import numpy as np\n",
    "# from solaris.eval.iou import calculate_iou\n",
    "from solaris.eval.vector import mF1"
   ]
  },
  {
   "cell_type": "code",
   "execution_count": 25,
   "metadata": {},
   "outputs": [
    {
     "name": "stderr",
     "output_type": "stream",
     "text": [
      "100%|██████████| 66/66 [00:03<00:00, 16.88it/s]\n"
     ]
    }
   ],
   "source": [
    "input_folder = r\"C:\\Users\\Professional\\yoloplanes\\yolo\\inference\\class_one_out\\bounding_boxes\"\n",
    "output_folder = r\"C:\\Users\\Professional\\yoloplanes\\wdata\\test\\geojson_aircraft_bbox\"\n",
    "os.makedirs(output_folder,exist_ok=True)\n",
    "os.chdir(input_folder)\n",
    "geojsons = glob.glob(\"*.geojson\")\n",
    "for geojson in tqdm(geojsons):\n",
    "    gdf = gpd.read_file(geojson)\n",
    "    box_geoms= []\n",
    "    for _, row in gdf.iterrows():\n",
    "        x = row.geometry.bounds\n",
    "        bbox = box(x[0], x[1], x[2], x[3])\n",
    "        box_geoms.append(bbox)\n",
    "    gdf['box_geom'] = box_geoms\n",
    "    gdf = gdf.drop('geometry',axis=1)\n",
    "    gdf = gpd.GeoDataFrame(gdf, geometry='box_geom')\n",
    "    out_name=os.path.join(output_folder, geojson)\n",
    "    gdf.to_file(out_name, driver='GeoJSON', encoding='utf-8')"
   ]
  },
  {
   "cell_type": "code",
   "execution_count": 26,
   "metadata": {},
   "outputs": [],
   "source": [
    "def count_unique_index(df, by):\n",
    "    return df.groupby(by).size().reset_index().rename(columns={0: 'count'})\n",
    "\n",
    "def create_custom_classes(all_annotations_geojson, geojson_dir, output_path, category_attributes):\n",
    "    os.makedirs(output_path, exist_ok=True)\n",
    "    gdf = gpd.read_file(all_annotations_geojson)\n",
    "    lookup_gdf = count_unique_index(gdf, category_attributes)\n",
    "    lookup_gdf['custom_id'] = list(range(0, len(lookup_gdf)))\n",
    "    lookup_gdf.drop(columns=['count'], inplace=True)\n",
    "    lookup_gdf.to_csv(os.path.join(output_path, \"custom_class_lookup.csv\"))\n",
    "    os.chdir(geojson_dir)\n",
    "    geojsons = glob.glob(\"*.geojson\")\n",
    "    for geojson in tqdm(geojsons):\n",
    "        gdf = gpd.read_file(geojson)\n",
    "        gdf = pd.merge(gdf, lookup_gdf, on=category_attributes, how='left')\n",
    "        gdf[\"custom_id\"] = pd.to_numeric(gdf[\"custom_id\"], downcast='float')\n",
    "        gdf.to_file(os.path.join(output_path, geojson), driver=\"GeoJSON\", encoding='utf-8')"
   ]
  },
  {
   "cell_type": "code",
   "execution_count": 27,
   "metadata": {},
   "outputs": [
    {
     "name": "stderr",
     "output_type": "stream",
     "text": [
      "  0%|          | 0/66 [00:00<?, ?it/s]\n"
     ]
    },
    {
     "ename": "KeyError",
     "evalue": "'propulsion'",
     "output_type": "error",
     "traceback": [
      "\u001b[1;31m---------------------------------------------------------------------------\u001b[0m",
      "\u001b[1;31mKeyError\u001b[0m                                  Traceback (most recent call last)",
      "Cell \u001b[1;32mIn[27], line 8\u001b[0m\n\u001b[0;32m      4\u001b[0m output_path_test_one \u001b[38;5;241m=\u001b[39m \u001b[38;5;124mr\u001b[39m\u001b[38;5;124m'\u001b[39m\u001b[38;5;124mC:\u001b[39m\u001b[38;5;124m\\\u001b[39m\u001b[38;5;124mUsers\u001b[39m\u001b[38;5;124m\\\u001b[39m\u001b[38;5;124mProfessional\u001b[39m\u001b[38;5;124m\\\u001b[39m\u001b[38;5;124myoloplanes\u001b[39m\u001b[38;5;124m\\\u001b[39m\u001b[38;5;124mwdata\u001b[39m\u001b[38;5;124m\\\u001b[39m\u001b[38;5;124mtest\u001b[39m\u001b[38;5;124m\\\u001b[39m\u001b[38;5;124myolo_class_one_truth_bbox\u001b[39m\u001b[38;5;124m'\u001b[39m\n\u001b[0;32m      6\u001b[0m class_one \u001b[38;5;241m=\u001b[39m [\u001b[38;5;124m'\u001b[39m\u001b[38;5;124mpropulsion\u001b[39m\u001b[38;5;124m'\u001b[39m]\n\u001b[1;32m----> 8\u001b[0m \u001b[43mcreate_custom_classes\u001b[49m\u001b[43m(\u001b[49m\u001b[43mall_annotations_geojson\u001b[49m\u001b[43m,\u001b[49m\u001b[43m \u001b[49m\u001b[43mgeojson_dir_test\u001b[49m\u001b[43m,\u001b[49m\u001b[43m \u001b[49m\u001b[43moutput_path_test_one\u001b[49m\u001b[43m,\u001b[49m\u001b[43m \u001b[49m\u001b[43mclass_one\u001b[49m\u001b[43m)\u001b[49m\n",
      "Cell \u001b[1;32mIn[26], line 31\u001b[0m, in \u001b[0;36mcreate_custom_classes\u001b[1;34m(all_annotations_geojson, geojson_dir, output_path, category_attributes)\u001b[0m\n\u001b[0;32m     29\u001b[0m \u001b[38;5;28;01mfor\u001b[39;00m geojson \u001b[38;5;129;01min\u001b[39;00m tqdm(geojsons):\n\u001b[0;32m     30\u001b[0m     gdf \u001b[38;5;241m=\u001b[39m gpd\u001b[38;5;241m.\u001b[39mread_file(geojson)\n\u001b[1;32m---> 31\u001b[0m     gdf \u001b[38;5;241m=\u001b[39m \u001b[43mpd\u001b[49m\u001b[38;5;241;43m.\u001b[39;49m\u001b[43mmerge\u001b[49m\u001b[43m(\u001b[49m\u001b[43mgdf\u001b[49m\u001b[43m,\u001b[49m\u001b[43m \u001b[49m\u001b[43mlookup_gdf\u001b[49m\u001b[43m,\u001b[49m\u001b[43m \u001b[49m\u001b[43mon\u001b[49m\u001b[38;5;241;43m=\u001b[39;49m\u001b[43mcategory_attributes\u001b[49m\u001b[43m,\u001b[49m\u001b[43m \u001b[49m\u001b[43mhow\u001b[49m\u001b[38;5;241;43m=\u001b[39;49m\u001b[38;5;124;43m'\u001b[39;49m\u001b[38;5;124;43mleft\u001b[39;49m\u001b[38;5;124;43m'\u001b[39;49m\u001b[43m)\u001b[49m\n\u001b[0;32m     32\u001b[0m     gdf[\u001b[38;5;124m\"\u001b[39m\u001b[38;5;124mcustom_id\u001b[39m\u001b[38;5;124m\"\u001b[39m] \u001b[38;5;241m=\u001b[39m pd\u001b[38;5;241m.\u001b[39mto_numeric(gdf[\u001b[38;5;124m\"\u001b[39m\u001b[38;5;124mcustom_id\u001b[39m\u001b[38;5;124m\"\u001b[39m], downcast\u001b[38;5;241m=\u001b[39m\u001b[38;5;124m'\u001b[39m\u001b[38;5;124mfloat\u001b[39m\u001b[38;5;124m'\u001b[39m)\n\u001b[0;32m     33\u001b[0m     gdf\u001b[38;5;241m.\u001b[39mto_file(os\u001b[38;5;241m.\u001b[39mpath\u001b[38;5;241m.\u001b[39mjoin(output_path, geojson), driver\u001b[38;5;241m=\u001b[39m\u001b[38;5;124m\"\u001b[39m\u001b[38;5;124mGeoJSON\u001b[39m\u001b[38;5;124m\"\u001b[39m, encoding\u001b[38;5;241m=\u001b[39m\u001b[38;5;124m'\u001b[39m\u001b[38;5;124mutf-8\u001b[39m\u001b[38;5;124m'\u001b[39m)\n",
      "File \u001b[1;32mc:\\Python11\\Lib\\site-packages\\pandas\\core\\reshape\\merge.py:110\u001b[0m, in \u001b[0;36mmerge\u001b[1;34m(left, right, how, on, left_on, right_on, left_index, right_index, sort, suffixes, copy, indicator, validate)\u001b[0m\n\u001b[0;32m     93\u001b[0m \u001b[39m@Substitution\u001b[39m(\u001b[39m\"\u001b[39m\u001b[39m\\n\u001b[39;00m\u001b[39mleft : DataFrame or named Series\u001b[39m\u001b[39m\"\u001b[39m)\n\u001b[0;32m     94\u001b[0m \u001b[39m@Appender\u001b[39m(_merge_doc, indents\u001b[39m=\u001b[39m\u001b[39m0\u001b[39m)\n\u001b[0;32m     95\u001b[0m \u001b[39mdef\u001b[39;00m \u001b[39mmerge\u001b[39m(\n\u001b[1;32m   (...)\u001b[0m\n\u001b[0;32m    108\u001b[0m     validate: \u001b[39mstr\u001b[39m \u001b[39m|\u001b[39m \u001b[39mNone\u001b[39;00m \u001b[39m=\u001b[39m \u001b[39mNone\u001b[39;00m,\n\u001b[0;32m    109\u001b[0m ) \u001b[39m-\u001b[39m\u001b[39m>\u001b[39m DataFrame:\n\u001b[1;32m--> 110\u001b[0m     op \u001b[39m=\u001b[39m _MergeOperation(\n\u001b[0;32m    111\u001b[0m         left,\n\u001b[0;32m    112\u001b[0m         right,\n\u001b[0;32m    113\u001b[0m         how\u001b[39m=\u001b[39;49mhow,\n\u001b[0;32m    114\u001b[0m         on\u001b[39m=\u001b[39;49mon,\n\u001b[0;32m    115\u001b[0m         left_on\u001b[39m=\u001b[39;49mleft_on,\n\u001b[0;32m    116\u001b[0m         right_on\u001b[39m=\u001b[39;49mright_on,\n\u001b[0;32m    117\u001b[0m         left_index\u001b[39m=\u001b[39;49mleft_index,\n\u001b[0;32m    118\u001b[0m         right_index\u001b[39m=\u001b[39;49mright_index,\n\u001b[0;32m    119\u001b[0m         sort\u001b[39m=\u001b[39;49msort,\n\u001b[0;32m    120\u001b[0m         suffixes\u001b[39m=\u001b[39;49msuffixes,\n\u001b[0;32m    121\u001b[0m         indicator\u001b[39m=\u001b[39;49mindicator,\n\u001b[0;32m    122\u001b[0m         validate\u001b[39m=\u001b[39;49mvalidate,\n\u001b[0;32m    123\u001b[0m     )\n\u001b[0;32m    124\u001b[0m     \u001b[39mreturn\u001b[39;00m op\u001b[39m.\u001b[39mget_result(copy\u001b[39m=\u001b[39mcopy)\n",
      "File \u001b[1;32mc:\\Python11\\Lib\\site-packages\\pandas\\core\\reshape\\merge.py:703\u001b[0m, in \u001b[0;36m_MergeOperation.__init__\u001b[1;34m(self, left, right, how, on, left_on, right_on, axis, left_index, right_index, sort, suffixes, indicator, validate)\u001b[0m\n\u001b[0;32m    696\u001b[0m \u001b[39mself\u001b[39m\u001b[39m.\u001b[39m_cross \u001b[39m=\u001b[39m cross_col\n\u001b[0;32m    698\u001b[0m \u001b[39m# note this function has side effects\u001b[39;00m\n\u001b[0;32m    699\u001b[0m (\n\u001b[0;32m    700\u001b[0m     \u001b[39mself\u001b[39m\u001b[39m.\u001b[39mleft_join_keys,\n\u001b[0;32m    701\u001b[0m     \u001b[39mself\u001b[39m\u001b[39m.\u001b[39mright_join_keys,\n\u001b[0;32m    702\u001b[0m     \u001b[39mself\u001b[39m\u001b[39m.\u001b[39mjoin_names,\n\u001b[1;32m--> 703\u001b[0m ) \u001b[39m=\u001b[39m \u001b[39mself\u001b[39;49m\u001b[39m.\u001b[39;49m_get_merge_keys()\n\u001b[0;32m    705\u001b[0m \u001b[39m# validate the merge keys dtypes. We may need to coerce\u001b[39;00m\n\u001b[0;32m    706\u001b[0m \u001b[39m# to avoid incompatible dtypes\u001b[39;00m\n\u001b[0;32m    707\u001b[0m \u001b[39mself\u001b[39m\u001b[39m.\u001b[39m_maybe_coerce_merge_keys()\n",
      "File \u001b[1;32mc:\\Python11\\Lib\\site-packages\\pandas\\core\\reshape\\merge.py:1179\u001b[0m, in \u001b[0;36m_MergeOperation._get_merge_keys\u001b[1;34m(self)\u001b[0m\n\u001b[0;32m   1175\u001b[0m \u001b[39mif\u001b[39;00m lk \u001b[39mis\u001b[39;00m \u001b[39mnot\u001b[39;00m \u001b[39mNone\u001b[39;00m:\n\u001b[0;32m   1176\u001b[0m     \u001b[39m# Then we're either Hashable or a wrong-length arraylike,\u001b[39;00m\n\u001b[0;32m   1177\u001b[0m     \u001b[39m#  the latter of which will raise\u001b[39;00m\n\u001b[0;32m   1178\u001b[0m     lk \u001b[39m=\u001b[39m cast(Hashable, lk)\n\u001b[1;32m-> 1179\u001b[0m     left_keys\u001b[39m.\u001b[39mappend(left\u001b[39m.\u001b[39;49m_get_label_or_level_values(lk))\n\u001b[0;32m   1180\u001b[0m     join_names\u001b[39m.\u001b[39mappend(lk)\n\u001b[0;32m   1181\u001b[0m \u001b[39melse\u001b[39;00m:\n\u001b[0;32m   1182\u001b[0m     \u001b[39m# work-around for merge_asof(left_index=True)\u001b[39;00m\n",
      "File \u001b[1;32mc:\\Python11\\Lib\\site-packages\\pandas\\core\\generic.py:1850\u001b[0m, in \u001b[0;36mNDFrame._get_label_or_level_values\u001b[1;34m(self, key, axis)\u001b[0m\n\u001b[0;32m   1844\u001b[0m     values \u001b[39m=\u001b[39m (\n\u001b[0;32m   1845\u001b[0m         \u001b[39mself\u001b[39m\u001b[39m.\u001b[39maxes[axis]\n\u001b[0;32m   1846\u001b[0m         \u001b[39m.\u001b[39mget_level_values(key)  \u001b[39m# type: ignore[assignment]\u001b[39;00m\n\u001b[0;32m   1847\u001b[0m         \u001b[39m.\u001b[39m_values\n\u001b[0;32m   1848\u001b[0m     )\n\u001b[0;32m   1849\u001b[0m \u001b[39melse\u001b[39;00m:\n\u001b[1;32m-> 1850\u001b[0m     \u001b[39mraise\u001b[39;00m \u001b[39mKeyError\u001b[39;00m(key)\n\u001b[0;32m   1852\u001b[0m \u001b[39m# Check for duplicates\u001b[39;00m\n\u001b[0;32m   1853\u001b[0m \u001b[39mif\u001b[39;00m values\u001b[39m.\u001b[39mndim \u001b[39m>\u001b[39m \u001b[39m1\u001b[39m:\n",
      "\u001b[1;31mKeyError\u001b[0m: 'propulsion'"
     ]
    }
   ],
   "source": [
    "all_annotations_geojson = r'C:\\Users\\Professional\\yoloplanes\\wdata\\RarePlanes_Public_All_Annotations.geojson'\n",
    "geojson_dir_test = r'C:\\Users\\Professional\\yoloplanes\\wdata\\test\\geojson_aircraft_bbox'\n",
    "\n",
    "output_path_test_one = r'C:\\Users\\Professional\\yoloplanes\\wdata\\test\\yolo_class_one_truth_bbox'\n",
    "\n",
    "class_one = ['propulsion']\n",
    "\n",
    "create_custom_classes(all_annotations_geojson, geojson_dir_test, output_path_test_one, class_one)"
   ]
  },
  {
   "cell_type": "code",
   "execution_count": 28,
   "metadata": {},
   "outputs": [
    {
     "name": "stdout",
     "output_type": "stream",
     "text": [
      "getting unique objects...\n"
     ]
    },
    {
     "name": "stderr",
     "output_type": "stream",
     "text": [
      "100%|██████████| 66/66 [00:00<00:00, 33093.13it/s]\n",
      "100%|██████████| 2710/2710 [00:00<00:00, 52254.78it/s]\n"
     ]
    },
    {
     "name": "stdout",
     "output_type": "stream",
     "text": [
      "calculating recall...\n"
     ]
    },
    {
     "name": "stderr",
     "output_type": "stream",
     "text": [
      "100%|██████████| 66/66 [00:00<00:00, 33089.18it/s]\n",
      "100%|██████████| 2710/2710 [00:00<00:00, 51269.33it/s]\n",
      "  9%|▊         | 237/2710 [00:01<00:19, 126.06it/s]\n"
     ]
    },
    {
     "ename": "KeyboardInterrupt",
     "evalue": "",
     "output_type": "error",
     "traceback": [
      "\u001b[1;31m---------------------------------------------------------------------------\u001b[0m",
      "\u001b[1;31mKeyboardInterrupt\u001b[0m                         Traceback (most recent call last)",
      "Cell \u001b[1;32mIn[28], line 3\u001b[0m\n\u001b[0;32m      1\u001b[0m proposal_polygons_dir \u001b[38;5;241m=\u001b[39m\u001b[38;5;124mr\u001b[39m\u001b[38;5;124m\"\u001b[39m\u001b[38;5;124mC:\u001b[39m\u001b[38;5;124m\\\u001b[39m\u001b[38;5;124mUsers\u001b[39m\u001b[38;5;124m\\\u001b[39m\u001b[38;5;124mProfessional\u001b[39m\u001b[38;5;124m\\\u001b[39m\u001b[38;5;124myoloplanes\u001b[39m\u001b[38;5;124m\\\u001b[39m\u001b[38;5;124myolo\u001b[39m\u001b[38;5;124m\\\u001b[39m\u001b[38;5;124minference\u001b[39m\u001b[38;5;124m\\\u001b[39m\u001b[38;5;124mclass_one_out\u001b[39m\u001b[38;5;124m\\\u001b[39m\u001b[38;5;124mbounding_boxes\u001b[39m\u001b[38;5;124m\"\u001b[39m\n\u001b[0;32m      2\u001b[0m gt_polygons_dir \u001b[38;5;241m=\u001b[39m \u001b[38;5;124mr\u001b[39m\u001b[38;5;124m\"\u001b[39m\u001b[38;5;124mC:\u001b[39m\u001b[38;5;124m\\\u001b[39m\u001b[38;5;124mUsers\u001b[39m\u001b[38;5;124m\\\u001b[39m\u001b[38;5;124mProfessional\u001b[39m\u001b[38;5;124m\\\u001b[39m\u001b[38;5;124myoloplanes\u001b[39m\u001b[38;5;124m\\\u001b[39m\u001b[38;5;124mwdata\u001b[39m\u001b[38;5;124m\\\u001b[39m\u001b[38;5;124mtest\u001b[39m\u001b[38;5;124m\\\u001b[39m\u001b[38;5;124myolo_class_one_truth_bbox\u001b[39m\u001b[38;5;124m\"\u001b[39m\n\u001b[1;32m----> 3\u001b[0m mF1, f1s_by_class, precision_iou_by_obj, precision_by_class, mPrecision, recall_iou_by_obj, recall_by_class, mRecall, object_subset, prop_objs, all_objs \u001b[38;5;241m=\u001b[39m \u001b[43mmF1\u001b[49m\u001b[43m(\u001b[49m\u001b[43mproposal_polygons_dir\u001b[49m\u001b[43m,\u001b[49m\u001b[43m \u001b[49m\u001b[43mgt_polygons_dir\u001b[49m\u001b[43m,\u001b[49m\u001b[43m \u001b[49m\u001b[43mprediction_cat_attrib\u001b[49m\u001b[38;5;241;43m=\u001b[39;49m\u001b[38;5;124;43m\"\u001b[39;49m\u001b[38;5;124;43mclass_id\u001b[39;49m\u001b[38;5;124;43m\"\u001b[39;49m\u001b[43m,\u001b[49m\u001b[43m \u001b[49m\u001b[43mgt_cat_attrib\u001b[49m\u001b[38;5;241;43m=\u001b[39;49m\u001b[38;5;124;43m'\u001b[39;49m\u001b[38;5;124;43mcustom_id\u001b[39;49m\u001b[38;5;124;43m'\u001b[39;49m\u001b[43m,\u001b[49m\u001b[43m \u001b[49m\u001b[43mobject_subset\u001b[49m\u001b[38;5;241;43m=\u001b[39;49m\u001b[43m[\u001b[49m\u001b[43m]\u001b[49m\u001b[43m,\u001b[49m\u001b[43m \u001b[49m\u001b[43mall_outputs\u001b[49m\u001b[38;5;241;43m=\u001b[39;49m\u001b[38;5;28;43;01mTrue\u001b[39;49;00m\u001b[43m)\u001b[49m\n",
      "File \u001b[1;32mc:\\Python11\\Lib\\solaris\\eval\\vector.py:375\u001b[0m, in \u001b[0;36mmF1\u001b[1;34m(proposal_polygons_dir, gt_polygons_dir, prediction_cat_attrib, gt_cat_attrib, object_subset, threshold, confidence_attrib, file_format, all_outputs)\u001b[0m\n\u001b[0;32m    370\u001b[0m     prop_objs, object_subset, all_objs \u001b[39m=\u001b[39m get_all_objects(\n\u001b[0;32m    371\u001b[0m         proposal_polygons_dir, gt_polygons_dir,\n\u001b[0;32m    372\u001b[0m         prediction_cat_attrib\u001b[39m=\u001b[39mprediction_cat_attrib,\n\u001b[0;32m    373\u001b[0m         gt_cat_attrib\u001b[39m=\u001b[39mgt_cat_attrib, file_format\u001b[39m=\u001b[39mfile_format)\n\u001b[0;32m    374\u001b[0m \u001b[39mprint\u001b[39m(\u001b[39m\"\u001b[39m\u001b[39mcalculating recall...\u001b[39m\u001b[39m\"\u001b[39m)\n\u001b[1;32m--> 375\u001b[0m recall_iou_by_obj, recall_by_class, mRecall \u001b[39m=\u001b[39m recall_calc(\n\u001b[0;32m    376\u001b[0m     proposal_polygons_dir, gt_polygons_dir,\n\u001b[0;32m    377\u001b[0m     prediction_cat_attrib\u001b[39m=\u001b[39;49mprediction_cat_attrib,\n\u001b[0;32m    378\u001b[0m     gt_cat_attrib\u001b[39m=\u001b[39;49mgt_cat_attrib, object_subset\u001b[39m=\u001b[39;49mobject_subset,\n\u001b[0;32m    379\u001b[0m     threshold\u001b[39m=\u001b[39;49mthreshold, file_format\u001b[39m=\u001b[39;49mfile_format)\n\u001b[0;32m    380\u001b[0m \u001b[39mprint\u001b[39m(\u001b[39m\"\u001b[39m\u001b[39mcalculating precision...\u001b[39m\u001b[39m\"\u001b[39m)\n\u001b[0;32m    381\u001b[0m precision_iou_by_obj, precision_by_class, mPrecision, confidences \u001b[39m=\u001b[39m precision_calc(\n\u001b[0;32m    382\u001b[0m     proposal_polygons_dir, gt_polygons_dir,\n\u001b[0;32m    383\u001b[0m     prediction_cat_attrib\u001b[39m=\u001b[39mprediction_cat_attrib,\n\u001b[0;32m    384\u001b[0m     gt_cat_attrib\u001b[39m=\u001b[39mgt_cat_attrib, object_subset\u001b[39m=\u001b[39mobject_subset,\n\u001b[0;32m    385\u001b[0m     threshold\u001b[39m=\u001b[39mthreshold, confidence_attrib\u001b[39m=\u001b[39mconfidence_attrib, file_format\u001b[39m=\u001b[39mfile_format)\n",
      "File \u001b[1;32mc:\\Python11\\Lib\\solaris\\eval\\vector.py:287\u001b[0m, in \u001b[0;36mrecall_calc\u001b[1;34m(proposal_polygons_dir, gt_polygons_dir, prediction_cat_attrib, gt_cat_attrib, object_subset, threshold, file_format)\u001b[0m\n\u001b[0;32m    285\u001b[0m         ious \u001b[39m=\u001b[39m []\n\u001b[0;32m    286\u001b[0m \u001b[39melse\u001b[39;00m:\n\u001b[1;32m--> 287\u001b[0m     ground_truth_gdf \u001b[39m=\u001b[39m gpd\u001b[39m.\u001b[39;49mread_file(geojson)\n\u001b[0;32m    288\u001b[0m     i \u001b[39m=\u001b[39m \u001b[39m0\u001b[39m\n\u001b[0;32m    289\u001b[0m     \u001b[39mfor\u001b[39;00m obj \u001b[39min\u001b[39;00m object_subset:\n",
      "File \u001b[1;32mc:\\Python11\\Lib\\site-packages\\geopandas\\io\\file.py:172\u001b[0m, in \u001b[0;36m_read_file\u001b[1;34m(filename, bbox, mask, rows, engine, **kwargs)\u001b[0m\n\u001b[0;32m    164\u001b[0m     parsed \u001b[39m=\u001b[39m fiona\u001b[39m.\u001b[39mpath\u001b[39m.\u001b[39mParsedPath\u001b[39m.\u001b[39mfrom_uri(path)\n\u001b[0;32m    165\u001b[0m     \u001b[39mreturn\u001b[39;00m (\n\u001b[0;32m    166\u001b[0m         parsed\u001b[39m.\u001b[39marchive\u001b[39m.\u001b[39mendswith(\u001b[39m\"\u001b[39m\u001b[39m.zip\u001b[39m\u001b[39m\"\u001b[39m)\n\u001b[0;32m    167\u001b[0m         \u001b[39mif\u001b[39;00m parsed\u001b[39m.\u001b[39marchive\n\u001b[0;32m    168\u001b[0m         \u001b[39melse\u001b[39;00m parsed\u001b[39m.\u001b[39mpath\u001b[39m.\u001b[39mendswith(\u001b[39m\"\u001b[39m\u001b[39m.zip\u001b[39m\u001b[39m\"\u001b[39m)\n\u001b[0;32m    169\u001b[0m     )\n\u001b[1;32m--> 172\u001b[0m \u001b[39mdef\u001b[39;00m \u001b[39m_read_file\u001b[39m(filename, bbox\u001b[39m=\u001b[39m\u001b[39mNone\u001b[39;00m, mask\u001b[39m=\u001b[39m\u001b[39mNone\u001b[39;00m, rows\u001b[39m=\u001b[39m\u001b[39mNone\u001b[39;00m, engine\u001b[39m=\u001b[39m\u001b[39mNone\u001b[39;00m, \u001b[39m*\u001b[39m\u001b[39m*\u001b[39mkwargs):\n\u001b[0;32m    173\u001b[0m \u001b[39m    \u001b[39m\u001b[39m\"\"\"\u001b[39;00m\n\u001b[0;32m    174\u001b[0m \u001b[39m    Returns a GeoDataFrame from a file or URL.\u001b[39;00m\n\u001b[0;32m    175\u001b[0m \n\u001b[1;32m   (...)\u001b[0m\n\u001b[0;32m    240\u001b[0m \u001b[39m    by using the encoding keyword parameter, e.g. ``encoding='utf-8'``.\u001b[39;00m\n\u001b[0;32m    241\u001b[0m \u001b[39m    \"\"\"\u001b[39;00m\n\u001b[0;32m    242\u001b[0m     engine \u001b[39m=\u001b[39m _check_engine(engine, \u001b[39m\"\u001b[39m\u001b[39m'\u001b[39m\u001b[39mread_file\u001b[39m\u001b[39m'\u001b[39m\u001b[39m function\u001b[39m\u001b[39m\"\u001b[39m)\n",
      "\u001b[1;31mKeyboardInterrupt\u001b[0m: "
     ]
    }
   ],
   "source": [
    "proposal_polygons_dir =r\"C:\\Users\\Professional\\yoloplanes\\yolo\\inference\\class_one_out\\bounding_boxes\"\n",
    "gt_polygons_dir = r\"C:\\Users\\Professional\\yoloplanes\\wdata\\test\\yolo_class_one_truth_bbox\"\n",
    "mF1, f1s_by_class, precision_iou_by_obj, precision_by_class, mPrecision, recall_iou_by_obj, recall_by_class, mRecall, object_subset, prop_objs, all_objs = mF1(proposal_polygons_dir, gt_polygons_dir, prediction_cat_attrib=\"class_id\", gt_cat_attrib='custom_id', object_subset=[], all_outputs=True)"
   ]
  },
  {
   "cell_type": "code",
   "execution_count": 16,
   "metadata": {},
   "outputs": [
    {
     "ename": "NameError",
     "evalue": "name 'f1s_by_class' is not defined",
     "output_type": "error",
     "traceback": [
      "\u001b[1;31m---------------------------------------------------------------------------\u001b[0m",
      "\u001b[1;31mNameError\u001b[0m                                 Traceback (most recent call last)",
      "Cell \u001b[1;32mIn[16], line 5\u001b[0m\n\u001b[0;32m      3\u001b[0m lookup_table\u001b[38;5;241m.\u001b[39mdrop(lookup_table\u001b[38;5;241m.\u001b[39mcolumns[lookup_table\u001b[38;5;241m.\u001b[39mcolumns\u001b[38;5;241m.\u001b[39mstr\u001b[38;5;241m.\u001b[39mcontains(\u001b[38;5;124m'\u001b[39m\u001b[38;5;124munnamed\u001b[39m\u001b[38;5;124m'\u001b[39m,case \u001b[38;5;241m=\u001b[39m \u001b[38;5;28;01mFalse\u001b[39;00m)],axis \u001b[38;5;241m=\u001b[39m \u001b[38;5;241m1\u001b[39m, inplace \u001b[38;5;241m=\u001b[39m \u001b[38;5;28;01mTrue\u001b[39;00m)\n\u001b[0;32m      4\u001b[0m object_subset_int \u001b[38;5;241m=\u001b[39m [\u001b[38;5;28mint\u001b[39m(i) \u001b[38;5;241m+\u001b[39m \u001b[38;5;241m1\u001b[39m \u001b[38;5;28;01mfor\u001b[39;00m i \u001b[38;5;129;01min\u001b[39;00m [\u001b[38;5;241m0\u001b[39m,\u001b[38;5;241m1\u001b[39m,\u001b[38;5;241m2\u001b[39m]]\n\u001b[1;32m----> 5\u001b[0m out_dict \u001b[38;5;241m=\u001b[39m {\u001b[38;5;124m\"\u001b[39m\u001b[38;5;124mcustom_id\u001b[39m\u001b[38;5;124m\"\u001b[39m:object_subset_int,\u001b[38;5;124m\"\u001b[39m\u001b[38;5;124mf1\u001b[39m\u001b[38;5;124m\"\u001b[39m:\u001b[43mf1s_by_class\u001b[49m,\u001b[38;5;124m\"\u001b[39m\u001b[38;5;124mprecision\u001b[39m\u001b[38;5;124m\"\u001b[39m: precision_by_class, \u001b[38;5;124m\"\u001b[39m\u001b[38;5;124mrecall\u001b[39m\u001b[38;5;124m\"\u001b[39m: recall_by_class}\n\u001b[0;32m      6\u001b[0m out_df \u001b[38;5;241m=\u001b[39m pd\u001b[38;5;241m.\u001b[39mDataFrame\u001b[38;5;241m.\u001b[39mfrom_dict(out_dict)\n\u001b[0;32m      7\u001b[0m out_df \u001b[38;5;241m=\u001b[39m pd\u001b[38;5;241m.\u001b[39mmerge(out_df, lookup_table, on\u001b[38;5;241m=\u001b[39m\u001b[38;5;124m'\u001b[39m\u001b[38;5;124mcustom_id\u001b[39m\u001b[38;5;124m'\u001b[39m, how\u001b[38;5;241m=\u001b[39m\u001b[38;5;124m'\u001b[39m\u001b[38;5;124mleft\u001b[39m\u001b[38;5;124m'\u001b[39m)\n",
      "\u001b[1;31mNameError\u001b[0m: name 'f1s_by_class' is not defined"
     ]
    }
   ],
   "source": [
    "lookup_table = r\"C:\\Users\\Professional\\yoloplanes\\geojsons_test\\yolo_class_one\\custom_class_lookup.csv\"\n",
    "lookup_table = pd.read_csv(lookup_table)\n",
    "lookup_table.drop(lookup_table.columns[lookup_table.columns.str.contains('unnamed',case = False)],axis = 1, inplace = True)\n",
    "object_subset_int = [int(i) + 1 for i in [0,1,2]]\n",
    "out_dict = {\"custom_id\":object_subset_int,\"f1\":f1s_by_class,\"precision\": precision_by_class, \"recall\": recall_by_class}\n",
    "out_df = pd.DataFrame.from_dict(out_dict)\n",
    "out_df = pd.merge(out_df, lookup_table, on='custom_id', how='left')\n",
    "out_df"
   ]
  },
  {
   "cell_type": "markdown",
   "metadata": {},
   "source": [
    "Now, using these fused geojsons, you can visulaize the predictions by downloading the `/home/ubuntu/src/yolo_planes/yolov5/inference/class_one_out/bounding_boxes` folder to your local machine and using a geographic infromation system like QGIS and overlaying the bounding boxes onto the real image."
   ]
  },
  {
   "cell_type": "code",
   "execution_count": null,
   "metadata": {},
   "outputs": [],
   "source": []
  }
 ],
 "metadata": {
  "kernelspec": {
   "display_name": "Python 3.11.2 64-bit",
   "language": "python",
   "name": "python3"
  },
  "language_info": {
   "codemirror_mode": {
    "name": "ipython",
    "version": 3
   },
   "file_extension": ".py",
   "mimetype": "text/x-python",
   "name": "python",
   "nbconvert_exporter": "python",
   "pygments_lexer": "ipython3",
   "version": "3.11.2"
  },
  "vscode": {
   "interpreter": {
    "hash": "25bed7b77d77b8a021903d9bddd2e5382ed3b8e4e304449843ea2cda94f9c705"
   }
  }
 },
 "nbformat": 4,
 "nbformat_minor": 4
}
